{
 "cells": [
  {
   "cell_type": "code",
   "execution_count": 73,
   "metadata": {},
   "outputs": [],
   "source": [
    "import pandas as pd\n",
    "import matplotlib.pyplot as plt\n",
    "import numpy as np\n",
    "import csv\n",
    "testlabel1=pd.read_csv(\"data-sets/test_with_label_1.csv\")\n",
    "train1=pd.read_csv(\"data-sets/train_1.csv\")\n",
    "info1=pd.read_csv(\"data-sets/info_1.csv\")"
   ]
  },
  {
   "cell_type": "code",
   "execution_count": 34,
   "metadata": {},
   "outputs": [],
   "source": [
    "train1=pd.read_csv(\"data-sets/train_1.csv\")\n"
   ]
  },
  {
   "cell_type": "code",
   "execution_count": 51,
   "metadata": {},
   "outputs": [
    {
     "data": {
      "text/plain": [
       "0       14\n",
       "1        4\n",
       "2       12\n",
       "3       20\n",
       "4       14\n",
       "        ..\n",
       "1191     6\n",
       "1192     6\n",
       "1193     1\n",
       "1194     1\n",
       "1195    16\n",
       "Name: 1.828, Length: 1196, dtype: int64"
      ]
     },
     "execution_count": 51,
     "metadata": {},
     "output_type": "execute_result"
    }
   ],
   "source": [
    "train1.head()\n",
    "Xtrain1=train1.loc[:,:'1.827']\n",
    "Ytrain1=train1['1.828']"
   ]
  },
  {
   "cell_type": "code",
   "execution_count": 48,
   "metadata": {},
   "outputs": [
    {
     "data": {
      "text/plain": [
       "array(['A', 'B', 'C', 'D', 'E', 'F', 'G', 'H', 'I', 'J', 'K', 'L', 'M',\n",
       "       'N', 'O', 'P', 'Q', 'R', 'S', 'T', 'U', 'V', 'W', 'X', 'Y', 'Z'],\n",
       "      dtype=object)"
      ]
     },
     "execution_count": 48,
     "metadata": {},
     "output_type": "execute_result"
    }
   ],
   "source": [
    "info1.columns\n",
    "pd.unique(info1['symbol'])"
   ]
  },
  {
   "cell_type": "code",
   "execution_count": 56,
   "metadata": {},
   "outputs": [
    {
     "name": "stdout",
     "output_type": "stream",
     "text": [
      "    1  1.1  0  0.1  0.2  0.3  0.4  0.5  0.6  0.7  ...  1.841  1.842  1.843  \\\n",
      "0   1    1  1    1    1    1    1    1    1    1  ...      0      0      1   \n",
      "1   1    1  1    1    1    1    1    1    1    1  ...      1      1      1   \n",
      "2   1    1  1    1    1    1    1    1    1    1  ...      0      0      0   \n",
      "3   1    1  1    1    1    1    1    1    1    1  ...      1      1      1   \n",
      "4   1    1  1    1    1    1    1    1    1    0  ...      1      1      1   \n",
      ".. ..  ... ..  ...  ...  ...  ...  ...  ...  ...  ...    ...    ...    ...   \n",
      "74  1    1  1    1    1    1    1    1    1    0  ...      1      1      1   \n",
      "75  1    1  1    1    1    1    1    0    0    1  ...      1      1      1   \n",
      "76  1    1  1    1    1    1    0    0    0    0  ...      1      1      1   \n",
      "77  1    1  1    1    1    1    1    1    1    1  ...      1      1      1   \n",
      "78  1    1  0    0    0    0    0    0    0    0  ...      1      1      1   \n",
      "\n",
      "    1.844  1.845  1.846  1.847  1.848  1.849   4  \n",
      "0       1      1      1      1      1      1  13  \n",
      "1       1      1      1      1      1      1   7  \n",
      "2       1      1      1      1      1      1   2  \n",
      "3       1      1      1      1      1      1  18  \n",
      "4       1      1      0      0      0      0  17  \n",
      "..    ...    ...    ...    ...    ...    ...  ..  \n",
      "74      1      1      1      1      1      1  18  \n",
      "75      1      1      1      1      1      1  15  \n",
      "76      1      1      0      0      1      1  17  \n",
      "77      1      0      0      1      1      1   6  \n",
      "78      1      1      1      1      1      1  19  \n",
      "\n",
      "[79 rows x 1025 columns]\n"
     ]
    }
   ],
   "source": [
    "testlabel1.head()\n",
    "print(testlabel1)\n",
    "Xtest1=testlabel1.loc[:,:'1.849']\n",
    "Ytest1=testlabel1['4']"
   ]
  },
  {
   "cell_type": "code",
   "execution_count": 55,
   "metadata": {},
   "outputs": [
    {
     "data": {
      "text/plain": [
       "0.9941471571906354"
      ]
     },
     "execution_count": 55,
     "metadata": {},
     "output_type": "execute_result"
    }
   ],
   "source": [
    "from sklearn.datasets import load_digits\n",
    "from sklearn.linear_model import Perceptron\n",
    "clf = Perceptron(tol=1e-3, random_state=0)\n",
    "clf.fit(Xtrain1, Ytrain1)\n",
    "clf.score(Xtrain1, Ytrain1)"
   ]
  },
  {
   "cell_type": "code",
   "execution_count": 74,
   "metadata": {
    "scrolled": true
   },
   "outputs": [
    {
     "data": {
      "text/plain": [
       "array([ 1,  2,  3,  4,  5,  6,  7,  8,  9, 10, 11, 12, 13, 14, 15, 16, 17,\n",
       "       18, 19, 20, 21, 22, 23, 24, 25, 26, 27, 28, 29, 30, 31, 32, 33, 34,\n",
       "       35, 36, 37, 38, 39, 40, 41, 42, 43, 44, 45, 46, 47, 48, 49, 50, 51,\n",
       "       52, 53, 54, 55, 56, 57, 58, 59, 60, 61, 62, 63, 64, 65, 66, 67, 68,\n",
       "       69, 70, 71, 72, 73, 74, 75, 76, 77, 78])"
      ]
     },
     "execution_count": 74,
     "metadata": {},
     "output_type": "execute_result"
    }
   ],
   "source": [
    "Per_test1=clf.predict(Xtest1)\n",
    "\n",
    "count = np.arange(1,Per_test1.shape[0] )\n"
   ]
  },
  {
   "cell_type": "code",
   "execution_count": 59,
   "metadata": {},
   "outputs": [
    {
     "data": {
      "text/plain": [
       "0.7721518987341772"
      ]
     },
     "execution_count": 59,
     "metadata": {},
     "output_type": "execute_result"
    }
   ],
   "source": [
    "clf.score(Xtest1, Ytest1)"
   ]
  },
  {
   "cell_type": "code",
   "execution_count": 75,
   "metadata": {},
   "outputs": [],
   "source": [
    "import csv\n",
    "with open('PER-DS1.csv', 'w', newline='') as file:\n",
    "    writer = csv.writer(file)\n",
    "    for i in zip(count,Per_test1):\n",
    "        writer.writerow([i])\n",
    "        \n"
   ]
  },
  {
   "cell_type": "code",
   "execution_count": null,
   "metadata": {},
   "outputs": [],
   "source": []
  }
 ],
 "metadata": {
  "kernelspec": {
   "display_name": "Python 3",
   "language": "python",
   "name": "python3"
  },
  "language_info": {
   "codemirror_mode": {
    "name": "ipython",
    "version": 3
   },
   "file_extension": ".py",
   "mimetype": "text/x-python",
   "name": "python",
   "nbconvert_exporter": "python",
   "pygments_lexer": "ipython3",
   "version": "3.7.6"
  }
 },
 "nbformat": 4,
 "nbformat_minor": 4
}
