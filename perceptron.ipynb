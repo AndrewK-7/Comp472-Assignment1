{
 "cells": [
  {
   "cell_type": "code",
   "execution_count": null,
   "metadata": {},
   "outputs": [],
   "source": [
    "import pandas as pd\n",
    "import matplotlib.pyplot as plt\n",
    "import numpy as np\n",
    "import csv\n",
    "from sklearn.datasets import load_digits\n",
    "from sklearn.linear_model import Perceptron\n",
    "from sklearn.tree import DecisionTreeClassifier\n",
    "from sklearn.model_selection import GridSearchCV"
   ]
  },
  {
   "cell_type": "code",
   "execution_count": null,
   "metadata": {},
   "outputs": [],
   "source": [
    "testlabel1=pd.read_csv(\"data-sets/test_with_label_1.csv\")\n",
    "train1=pd.read_csv(\"data-sets/train_1.csv\")\n",
    "info1=pd.read_csv(\"data-sets/info_1.csv\")\n",
    "train1=pd.read_csv(\"data-sets/train_1.csv\")\n",
    "Xtrain1=train1.loc[:,:'1.827']\n",
    "Ytrain1=train1['1.828']\n",
    "Xtest1=testlabel1.loc[:,:'1.849']\n",
    "Ytest1=testlabel1['4']\n"
   ]
  },
  {
   "cell_type": "code",
   "execution_count": null,
   "metadata": {},
   "outputs": [],
   "source": [
    "clf = Perceptron(tol=1e-3, random_state=0)\n",
    "clf.fit(Xtrain1, Ytrain1)\n",
    "clf.score(Xtrain1, Ytrain1)"
   ]
  },
  {
   "cell_type": "code",
   "execution_count": null,
   "metadata": {},
   "outputs": [],
   "source": [
    "Per_test1=clf.predict(Xtest1)\n",
    "count = np.arange(1,Per_test1.shape[0] )\n",
    "clf.score(Xtest1, Ytest1)"
   ]
  },
  {
   "cell_type": "code",
   "execution_count": null,
   "metadata": {},
   "outputs": [],
   "source": [
    "with open('PER-DS1.csv', 'w', newline='') as file:\n",
    "    writer = csv.writer(file)\n",
    "    for i in zip(count,Per_test1):\n",
    "        writer.writerow([i])"
   ]
  },
  {
   "cell_type": "code",
   "execution_count": null,
   "metadata": {},
   "outputs": [],
   "source": [
    "params = {'max_leaf_nodes': list(range(2, 30)), 'min_samples_split': [2, 3, 4]}\n",
    "grid_search_cv = GridSearchCV(DecisionTreeClassifier(random_state=42), params, verbose=1, cv=3)\n",
    "grid_search_cv.fit(Xtrain1, Ytrain1)"
   ]
  },
  {
   "cell_type": "code",
   "execution_count": null,
   "metadata": {
    "scrolled": true
   },
   "outputs": [],
   "source": [
    "grid_search_cv.score(Xtrain1, Ytrain1)"
   ]
  },
  {
   "cell_type": "code",
   "execution_count": null,
   "metadata": {},
   "outputs": [],
   "source": [
    "bestree1=grid_search_cv.predict(Xtest1)\n",
    "bestree"
   ]
  },
  {
   "cell_type": "code",
   "execution_count": null,
   "metadata": {},
   "outputs": [],
   "source": [
    "\n",
    "grid_search_cv.score(Xtest1, Ytest1)\n",
    "with open('Best-DT-DS1.csv', 'w', newline='') as file:\n",
    "    writer = csv.writer(file)\n",
    "    for i in zip(count,bestree1):\n",
    "        writer.writerow([i])"
   ]
  },
  {
   "cell_type": "code",
   "execution_count": null,
   "metadata": {},
   "outputs": [],
   "source": []
  }
 ],
 "metadata": {
  "kernelspec": {
   "display_name": "Python 3",
   "language": "python",
   "name": "python3"
  },
  "language_info": {
   "codemirror_mode": {
    "name": "ipython",
    "version": 3
   },
   "file_extension": ".py",
   "mimetype": "text/x-python",
   "name": "python",
   "nbconvert_exporter": "python",
   "pygments_lexer": "ipython3",
   "version": "3.7.6"
  }
 },
 "nbformat": 4,
 "nbformat_minor": 4
}
