{
 "cells": [
  {
   "cell_type": "code",
   "execution_count": 60,
   "metadata": {},
   "outputs": [],
   "source": [
    "import pandas as pd\n",
    "import matplotlib.pyplot as plt\n",
    "import numpy as np\n",
    "import csv\n",
    "from sklearn.datasets import load_digits\n",
    "from sklearn.linear_model import Perceptron\n",
    "from sklearn.tree import DecisionTreeClassifier\n",
    "from sklearn.model_selection import GridSearchCV\n",
    "from sklearn.metrics import confusion_matrix, classification_report"
   ]
  },
  {
   "cell_type": "code",
   "execution_count": 61,
   "metadata": {},
   "outputs": [],
   "source": [
    "testlabel1=pd.read_csv(\"data-sets/test_with_label_1.csv\")\n",
    "train1=pd.read_csv(\"data-sets/train_1.csv\")\n",
    "info1=pd.read_csv(\"data-sets/info_1.csv\")\n",
    "\n",
    "train2 = pd.read_csv(\"data-sets/train_2.csv\")\n",
    "testlabel2 = pd.read_csv(\"data-sets/test_with_label_2.csv\")\n",
    "info2=pd.read_csv(\"data-sets/info_2.csv\")\n",
    "\n",
    "val1=pd.read_csv(\"data-sets/val_1.csv\")\n",
    "val2=pd.read_csv(\"data-sets/val_2.csv\")\n",
    "\n",
    "\n",
    "Xtrain1=train1.loc[:,:'1.827']\n",
    "Ytrain1=train1['1.828']\n",
    "Xtest1=testlabel1.loc[:,:'1.849']\n",
    "Ytest1=testlabel1['4']\n",
    "\n",
    "#Xtrain2=train2.loc[:,:'1.827']\n",
    "Ytrain2=train2['9']\n",
    "Xtrain2= train2.drop(\"9\", axis=1)\n",
    "Xtest2=testlabel2.loc[:,:'1.849']\n",
    "Ytest2=testlabel2['9']\n",
    "\n",
    "\n",
    "Xval1=val1.loc[:,:'1.842']\n",
    "Yval1=val1['1.843']\n",
    "\n",
    "Xval2=val2.loc[:,:'1.881']\n",
    "Yval2=val2['8']\n"
   ]
  },
  {
   "cell_type": "code",
   "execution_count": 62,
   "metadata": {},
   "outputs": [],
   "source": [
    "clf = Perceptron(tol=1e-3, random_state=0)\n",
    "clf.fit(Xtrain1, Ytrain1)\n",
    "Per_test1=clf.predict(Xtest1)\n",
    "\n",
    "clf2= Perceptron(tol=1e-3, random_state=0)\n",
    "clf2.fit(Xtrain2, Ytrain2)\n",
    "Per_test2=clf2.predict(Xtest2)"
   ]
  },
  {
   "cell_type": "code",
   "execution_count": 64,
   "metadata": {},
   "outputs": [
    {
     "name": "stdout",
     "output_type": "stream",
     "text": [
      "Fitting 3 folds for each of 84 candidates, totalling 252 fits\n"
     ]
    },
    {
     "name": "stderr",
     "output_type": "stream",
     "text": [
      "[Parallel(n_jobs=1)]: Using backend SequentialBackend with 1 concurrent workers.\n",
      "[Parallel(n_jobs=1)]: Done 252 out of 252 | elapsed:   12.1s finished\n",
      "[Parallel(n_jobs=1)]: Using backend SequentialBackend with 1 concurrent workers.\n"
     ]
    },
    {
     "name": "stdout",
     "output_type": "stream",
     "text": [
      "Fitting 3 folds for each of 84 candidates, totalling 252 fits\n"
     ]
    },
    {
     "name": "stderr",
     "output_type": "stream",
     "text": [
      "[Parallel(n_jobs=1)]: Done 252 out of 252 | elapsed:  1.5min finished\n"
     ]
    }
   ],
   "source": [
    "params = {'max_leaf_nodes': list(range(2, 30)), 'min_samples_split': [2, 3, 4]}\n",
    "grid_search_cv = GridSearchCV(DecisionTreeClassifier(random_state=42), params, verbose=1, cv=3)\n",
    "grid_search_cv.fit(Xtrain1, Ytrain1)\n",
    "bestree1=grid_search_cv.predict(Xtest1)\n",
    "\n",
    "grid_search_cv2 = GridSearchCV(DecisionTreeClassifier(random_state=42), params, verbose=1, cv=3)\n",
    "grid_search_cv2.fit(Xtrain2, Ytrain2)\n",
    "bestree2=grid_search_cv2.predict(Xtest2)"
   ]
  },
  {
   "cell_type": "code",
   "execution_count": 65,
   "metadata": {
    "scrolled": true
   },
   "outputs": [
    {
     "data": {
      "text/plain": [
       "0.4180602006688963"
      ]
     },
     "execution_count": 65,
     "metadata": {},
     "output_type": "execute_result"
    }
   ],
   "source": [
    "grid_search_cv.score(Xtrain1, Ytrain1)"
   ]
  },
  {
   "cell_type": "code",
   "execution_count": 66,
   "metadata": {},
   "outputs": [],
   "source": [
    "# The csv filename\n",
    "gnb_results_filename = \"results/Best-DT/Best-DT-DS1.csv\"\n",
    "\n",
    "# The results (predictions)\n",
    "gnb_results = np.arange(1,Per_test1.shape[0] )\n",
    "pred_gnb=clf.predict(Xtest1)\n",
    "y_testing_targets = Ytest1\n",
    "\n",
    "# The confusion matrix\n",
    "gnb_confusion_matrix = confusion_matrix(y_testing_targets, pred_gnb)\n",
    "gnb_confusion_matrix_data_frame = pd.DataFrame(gnb_confusion_matrix).transpose()\n",
    "\n",
    "# The classification report (accuracy, f1-score, etc...)\n",
    "gnb_classification_report = classification_report(y_testing_targets, pred_gnb, output_dict=True)\n",
    "gnb_classification_data_frame = pd.DataFrame(gnb_classification_report).transpose()\n",
    "\n",
    "# Write each result [row,prediction] to the CSV file\n",
    "# This will also create a new file\n",
    "with open(gnb_results_filename, \"w\", newline=\"\") as file:\n",
    "    writer = csv.writer(file)    \n",
    "    writer.writerow([\"(a) Predicted Results:\"])\n",
    "    writer.writerow(\"\")\n",
    "    for i in zip(gnb_results, pred_gnb):\n",
    "        writer.writerow([i])\n",
    "        \n",
    "# Append the confusion matrix to the CSV\n",
    "with open(gnb_results_filename, \"a\", newline=\"\") as file:\n",
    "    writer = csv.writer(file)    \n",
    "    writer.writerow(\"\")\n",
    "    writer.writerow([\"(b) Confusion Matrix:\"])\n",
    "    writer.writerow(\"\")\n",
    "gnb_confusion_matrix_data_frame.to_csv(gnb_results_filename, mode=\"a\")    \n",
    "        \n",
    "# Append the classification report to the CSV\n",
    "with open(gnb_results_filename, \"a\", newline=\"\") as file:\n",
    "    writer = csv.writer(file)    \n",
    "    writer.writerow(\"\")\n",
    "    writer.writerow([\"(c) & (d) Performance Metrics:\"])\n",
    "    writer.writerow(\"\")\n",
    "gnb_classification_data_frame.to_csv(gnb_results_filename, mode=\"a\")"
   ]
  },
  {
   "cell_type": "code",
   "execution_count": 67,
   "metadata": {},
   "outputs": [],
   "source": [
    "# The csv filename\n",
    "gnb_results_filename = \"results/Best-DT/Best-DT-DS2.csv\"\n",
    "\n",
    "# The results (predictions)\n",
    "gnb_results = np.arange(1,Per_test2.shape[0] )\n",
    "pred_gnb=clf2.predict(Xtest2)\n",
    "y_testing_targets = Ytest2\n",
    "\n",
    "# The confusion matrix\n",
    "gnb_confusion_matrix = confusion_matrix(y_testing_targets, pred_gnb)\n",
    "gnb_confusion_matrix_data_frame = pd.DataFrame(gnb_confusion_matrix).transpose()\n",
    "\n",
    "# The classification report (accuracy, f1-score, etc...)\n",
    "gnb_classification_report = classification_report(y_testing_targets, pred_gnb, output_dict=True)\n",
    "gnb_classification_data_frame = pd.DataFrame(gnb_classification_report).transpose()\n",
    "\n",
    "# Write each result [row,prediction] to the CSV file\n",
    "# This will also create a new file\n",
    "with open(gnb_results_filename, \"w\", newline=\"\") as file:\n",
    "    writer = csv.writer(file)    \n",
    "    writer.writerow([\"(a) Predicted Results:\"])\n",
    "    writer.writerow(\"\")\n",
    "    for i in zip(gnb_results, pred_gnb):\n",
    "        writer.writerow([i])\n",
    "        \n",
    "# Append the confusion matrix to the CSV\n",
    "with open(gnb_results_filename, \"a\", newline=\"\") as file:\n",
    "    writer = csv.writer(file)    \n",
    "    writer.writerow(\"\")\n",
    "    writer.writerow([\"(b) Confusion Matrix:\"])\n",
    "    writer.writerow(\"\")\n",
    "gnb_confusion_matrix_data_frame.to_csv(gnb_results_filename, mode=\"a\")    \n",
    "        \n",
    "# Append the classification report to the CSV\n",
    "with open(gnb_results_filename, \"a\", newline=\"\") as file:\n",
    "    writer = csv.writer(file)    \n",
    "    writer.writerow(\"\")\n",
    "    writer.writerow([\"(c) & (d) Performance Metrics:\"])\n",
    "    writer.writerow(\"\")\n",
    "gnb_classification_data_frame.to_csv(gnb_results_filename, mode=\"a\")"
   ]
  },
  {
   "cell_type": "code",
   "execution_count": 68,
   "metadata": {},
   "outputs": [
    {
     "name": "stderr",
     "output_type": "stream",
     "text": [
      "C:\\Users\\jangh\\anaconda3\\lib\\site-packages\\sklearn\\metrics\\_classification.py:1272: UndefinedMetricWarning: Precision and F-score are ill-defined and being set to 0.0 in labels with no predicted samples. Use `zero_division` parameter to control this behavior.\n",
      "  _warn_prf(average, modifier, msg_start, len(result))\n"
     ]
    }
   ],
   "source": [
    "# The csv filename\n",
    "gnb_results_filename = \"results/PER/PER-DS1.csv\"\n",
    "\n",
    "# The results (predictions)\n",
    "gnb_results = np.arange(1,bestree1.shape[0] )\n",
    "pred_gnb=grid_search_cv.predict(Xtest1)\n",
    "y_testing_targets = Ytest1\n",
    "\n",
    "# The confusion matrix\n",
    "gnb_confusion_matrix = confusion_matrix(y_testing_targets, pred_gnb)\n",
    "gnb_confusion_matrix_data_frame = pd.DataFrame(gnb_confusion_matrix).transpose()\n",
    "\n",
    "# The classification report (accuracy, f1-score, etc...)\n",
    "gnb_classification_report = classification_report(y_testing_targets, pred_gnb, output_dict=True)\n",
    "gnb_classification_data_frame = pd.DataFrame(gnb_classification_report).transpose()\n",
    "\n",
    "# Write each result [row,prediction] to the CSV file\n",
    "# This will also create a new file\n",
    "with open(gnb_results_filename, \"w\", newline=\"\") as file:\n",
    "    writer = csv.writer(file)    \n",
    "    writer.writerow([\"(a) Predicted Results:\"])\n",
    "    writer.writerow(\"\")\n",
    "    for i in zip(gnb_results, pred_gnb):\n",
    "        writer.writerow([i])\n",
    "        \n",
    "# Append the confusion matrix to the CSV\n",
    "with open(gnb_results_filename, \"a\", newline=\"\") as file:\n",
    "    writer = csv.writer(file)    \n",
    "    writer.writerow(\"\")\n",
    "    writer.writerow([\"(b) Confusion Matrix:\"])\n",
    "    writer.writerow(\"\")\n",
    "gnb_confusion_matrix_data_frame.to_csv(gnb_results_filename, mode=\"a\")    \n",
    "        \n",
    "# Append the classification report to the CSV\n",
    "with open(gnb_results_filename, \"a\", newline=\"\") as file:\n",
    "    writer = csv.writer(file)    \n",
    "    writer.writerow(\"\")\n",
    "    writer.writerow([\"(c) & (d) Performance Metrics:\"])\n",
    "    writer.writerow(\"\")\n",
    "gnb_classification_data_frame.to_csv(gnb_results_filename, mode=\"a\")"
   ]
  },
  {
   "cell_type": "code",
   "execution_count": 69,
   "metadata": {},
   "outputs": [
    {
     "name": "stderr",
     "output_type": "stream",
     "text": [
      "C:\\Users\\jangh\\anaconda3\\lib\\site-packages\\sklearn\\metrics\\_classification.py:1272: UndefinedMetricWarning: Precision and F-score are ill-defined and being set to 0.0 in labels with no predicted samples. Use `zero_division` parameter to control this behavior.\n",
      "  _warn_prf(average, modifier, msg_start, len(result))\n"
     ]
    }
   ],
   "source": [
    "# The csv filename\n",
    "gnb_results_filename = \"results/PER/PER-DS2.csv\"\n",
    "\n",
    "# The results (predictions)\n",
    "gnb_results = np.arange(1,bestree2.shape[0] )\n",
    "pred_gnb=grid_search_cv2.predict(Xtest2)\n",
    "y_testing_targets = Ytest2\n",
    "\n",
    "# The confusion matrix\n",
    "gnb_confusion_matrix = confusion_matrix(y_testing_targets, pred_gnb)\n",
    "gnb_confusion_matrix_data_frame = pd.DataFrame(gnb_confusion_matrix).transpose()\n",
    "\n",
    "# The classification report (accuracy, f1-score, etc...)\n",
    "gnb_classification_report = classification_report(y_testing_targets, pred_gnb, output_dict=True)\n",
    "gnb_classification_data_frame = pd.DataFrame(gnb_classification_report).transpose()\n",
    "\n",
    "# Write each result [row,prediction] to the CSV file\n",
    "# This will also create a new file\n",
    "with open(gnb_results_filename, \"w\", newline=\"\") as file:\n",
    "    writer = csv.writer(file)    \n",
    "    writer.writerow([\"(a) Predicted Results:\"])\n",
    "    writer.writerow(\"\")\n",
    "    for i in zip(gnb_results, pred_gnb):\n",
    "        writer.writerow([i])\n",
    "        \n",
    "# Append the confusion matrix to the CSV\n",
    "with open(gnb_results_filename, \"a\", newline=\"\") as file:\n",
    "    writer = csv.writer(file)    \n",
    "    writer.writerow(\"\")\n",
    "    writer.writerow([\"(b) Confusion Matrix:\"])\n",
    "    writer.writerow(\"\")\n",
    "gnb_confusion_matrix_data_frame.to_csv(gnb_results_filename, mode=\"a\")    \n",
    "        \n",
    "# Append the classification report to the CSV\n",
    "with open(gnb_results_filename, \"a\", newline=\"\") as file:\n",
    "    writer = csv.writer(file)    \n",
    "    writer.writerow(\"\")\n",
    "    writer.writerow([\"(c) & (d) Performance Metrics:\"])\n",
    "    writer.writerow(\"\")\n",
    "gnb_classification_data_frame.to_csv(gnb_results_filename, mode=\"a\")"
   ]
  },
  {
   "cell_type": "code",
   "execution_count": null,
   "metadata": {},
   "outputs": [],
   "source": []
  },
  {
   "cell_type": "code",
   "execution_count": null,
   "metadata": {},
   "outputs": [],
   "source": []
  }
 ],
 "metadata": {
  "kernelspec": {
   "display_name": "Python 3",
   "language": "python",
   "name": "python3"
  },
  "language_info": {
   "codemirror_mode": {
    "name": "ipython",
    "version": 3
   },
   "file_extension": ".py",
   "mimetype": "text/x-python",
   "name": "python",
   "nbconvert_exporter": "python",
   "pygments_lexer": "ipython3",
   "version": "3.7.6"
  }
 },
 "nbformat": 4,
 "nbformat_minor": 4
}
